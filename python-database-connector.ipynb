{
 "cells": [
  {
   "cell_type": "markdown",
   "metadata": {},
   "source": [
    "Set up to connect Python to the DB. \n",
    "\n",
    "Import the library, create the connection, create a cursor to speak to the database."
   ]
  },
  {
   "cell_type": "code",
   "execution_count": 7,
   "metadata": {},
   "outputs": [],
   "source": [
    "import mysql.connector as connector\n",
    "connection = connector.connect(user = \"root\", password = \"pass123\", db=\"littlelemondb\")\n",
    "\n",
    "cursor = connection.cursor()"
   ]
  },
  {
   "cell_type": "markdown",
   "metadata": {},
   "source": [
    "Show all tables in the database."
   ]
  },
  {
   "cell_type": "code",
   "execution_count": 8,
   "metadata": {},
   "outputs": [
    {
     "name": "stdout",
     "output_type": "stream",
     "text": [
      "[('bookings',), ('customerdetails',), ('menu',), ('menuitems',), ('orderdeliverystatus',), ('orders',), ('staffinformation',)]\n"
     ]
    }
   ],
   "source": [
    "show_tables_query = \"SHOW TABLES;\"\n",
    "cursor.execute(show_tables_query)\n",
    "\n",
    "results = cursor.fetchall()\n",
    "\n",
    "print(results)"
   ]
  },
  {
   "cell_type": "markdown",
   "metadata": {},
   "source": [
    "Find the names and contact information for individuals who have spent more than $60.00 in a single order."
   ]
  },
  {
   "cell_type": "code",
   "execution_count": 31,
   "metadata": {},
   "outputs": [
    {
     "name": "stdout",
     "output_type": "stream",
     "text": [
      "[('JakeH', 11111, Decimal('100.00')), ('JakeH', 11111, Decimal('61.00'))]\n"
     ]
    }
   ],
   "source": [
    "sql_query = \"\"\"SELECT Bookings.FullName, customerdetails.ContactNumber, orders.Cost AS TotalCost FROM Bookings INNER JOIN customerdetails ON Bookings.CustomerID = customerdetails.CustomerID INNER JOIN orders ON Bookings.BookingID = orders.OrderID WHERE orders.cost > 60;\"\"\"\n",
    "\n",
    "cursor.execute(sql_query)\n",
    "\n",
    "results = cursor.fetchall()\n",
    "\n",
    "print(results)"
   ]
  }
 ],
 "metadata": {
  "kernelspec": {
   "display_name": "Python 3",
   "language": "python",
   "name": "python3"
  },
  "language_info": {
   "codemirror_mode": {
    "name": "ipython",
    "version": 3
   },
   "file_extension": ".py",
   "mimetype": "text/x-python",
   "name": "python",
   "nbconvert_exporter": "python",
   "pygments_lexer": "ipython3",
   "version": "3.12.3"
  }
 },
 "nbformat": 4,
 "nbformat_minor": 2
}
